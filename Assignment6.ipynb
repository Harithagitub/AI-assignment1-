{
  "nbformat": 4,
  "nbformat_minor": 0,
  "metadata": {
    "colab": {
      "provenance": [],
      "authorship_tag": "ABX9TyMHAxwXo3pdPVu/W6sSpjab",
      "include_colab_link": true
    },
    "kernelspec": {
      "name": "python3",
      "display_name": "Python 3"
    },
    "language_info": {
      "name": "python"
    }
  },
  "cells": [
    {
      "cell_type": "markdown",
      "metadata": {
        "id": "view-in-github",
        "colab_type": "text"
      },
      "source": [
        "<a href=\"https://colab.research.google.com/github/Harithagitub/AI-assignment1-/blob/master/Assignment6.ipynb\" target=\"_parent\"><img src=\"https://colab.research.google.com/assets/colab-badge.svg\" alt=\"Open In Colab\"/></a>"
      ]
    },
    {
      "cell_type": "code",
      "execution_count": 5,
      "metadata": {
        "colab": {
          "base_uri": "https://localhost:8080/"
        },
        "id": "v2EFNLob2t78",
        "outputId": "7f092537-61f9-4d89-fd92-da85009c5291"
      },
      "outputs": [
        {
          "output_type": "stream",
          "name": "stdout",
          "text": [
            "Confusion Matrix (Linear Kernel):\n",
            "[[152   2]\n",
            " [  0 121]]\n",
            "\n",
            "Classification Report (Linear Kernel):\n",
            "              precision    recall  f1-score   support\n",
            "\n",
            "           0       1.00      0.99      0.99       154\n",
            "           1       0.98      1.00      0.99       121\n",
            "\n",
            "    accuracy                           0.99       275\n",
            "   macro avg       0.99      0.99      0.99       275\n",
            "weighted avg       0.99      0.99      0.99       275\n",
            "\n"
          ]
        }
      ],
      "source": [
        "import pandas as pd\n",
        "\n",
        "df = pd.read_csv('data_banknote_authentication.csv')\n",
        "X = df.drop('class', axis=1)\n",
        "y = df['class']\n",
        "from sklearn.model_selection import train_test_split\n",
        "\n",
        "X_train, X_test, y_train, y_test = train_test_split(X, y, test_size=0.20, random_state=20)\n",
        "from sklearn.svm import SVC\n",
        "svm_linear = SVC(kernel='linear', random_state=20)\n",
        "svm_linear.fit(X_train, y_train)\n",
        "from sklearn.metrics import confusion_matrix, classification_report\n",
        "\n",
        "y_pred_linear = svm_linear.predict(X_test)\n",
        "conf_matrix_linear = confusion_matrix(y_test, y_pred_linear)\n",
        "class_report_linear = classification_report(y_test, y_pred_linear)\n",
        "\n",
        "print(\"Confusion Matrix (Linear Kernel):\")\n",
        "print(conf_matrix_linear)\n",
        "print(\"\\nClassification Report (Linear Kernel):\")\n",
        "print(class_report_linear)\n",
        "\n"
      ]
    },
    {
      "cell_type": "code",
      "source": [
        "\n",
        "svm_rbf = SVC(kernel='rbf', random_state=20)\n",
        "svm_rbf.fit(X_train, y_train)\n",
        "y_pred_rbf = svm_rbf.predict(X_test)\n",
        "\n",
        "conf_matrix_rbf = confusion_matrix(y_test, y_pred_rbf)\n",
        "class_report_rbf = classification_report(y_test, y_pred_rbf)\n",
        "\n",
        "print(\"Confusion Matrix (RBF Kernel):\")\n",
        "print(conf_matrix_rbf)\n",
        "print(\"\\nClassification Report (RBF Kernel):\")\n",
        "print(class_report_rbf)\n"
      ],
      "metadata": {
        "colab": {
          "base_uri": "https://localhost:8080/"
        },
        "id": "UsbkTJd34nGL",
        "outputId": "c68a0553-7b72-4679-c242-fc0646133cb8"
      },
      "execution_count": 4,
      "outputs": [
        {
          "output_type": "stream",
          "name": "stdout",
          "text": [
            "Confusion Matrix (RBF Kernel):\n",
            "[[154   0]\n",
            " [  0 121]]\n",
            "\n",
            "Classification Report (RBF Kernel):\n",
            "              precision    recall  f1-score   support\n",
            "\n",
            "           0       1.00      1.00      1.00       154\n",
            "           1       1.00      1.00      1.00       121\n",
            "\n",
            "    accuracy                           1.00       275\n",
            "   macro avg       1.00      1.00      1.00       275\n",
            "weighted avg       1.00      1.00      1.00       275\n",
            "\n"
          ]
        }
      ]
    },
    {
      "cell_type": "code",
      "source": [
        "import pandas as pd\n",
        "df = pd.read_csv('weight-height.csv')\n",
        "X = df[['Height']]\n",
        "y = df['Weight']\n",
        "from sklearn.model_selection import train_test_split\n",
        "X_train, X_test, y_train, y_test = train_test_split(X, y, test_size=0.20, random_state=42)\n",
        "from sklearn.preprocessing import MinMaxScaler, StandardScaler\n",
        "\n",
        "scaler_norm = MinMaxScaler()\n",
        "X_train_norm = scaler_norm.fit_transform(X_train)\n",
        "X_test_norm = scaler_norm.transform(X_test)\n",
        "\n",
        "scaler_std = StandardScaler()\n",
        "X_train_std = scaler_std.fit_transform(X_train)\n",
        "X_test_std = scaler_std.transform(X_test)\n",
        "\n"
      ],
      "metadata": {
        "id": "878_6Bc25fBH"
      },
      "execution_count": 12,
      "outputs": []
    },
    {
      "cell_type": "code",
      "source": [
        "from sklearn.neighbors import KNeighborsRegressor\n",
        "from sklearn.metrics import r2_score\n",
        "\n",
        "knn = KNeighborsRegressor(n_neighbors=5)\n",
        "knn.fit(X_train, y_train)\n",
        "y_pred = knn.predict(X_test)\n",
        "\n",
        "r2_unscaled = r2_score(y_test, y_pred)\n",
        "print(\"R^2 value for unscaled data: \", r2_unscaled)\n"
      ],
      "metadata": {
        "colab": {
          "base_uri": "https://localhost:8080/"
        },
        "id": "LHch9ASk6H2o",
        "outputId": "7a979094-0bbd-46a4-a506-bdb5310eb912"
      },
      "execution_count": 8,
      "outputs": [
        {
          "output_type": "stream",
          "name": "stdout",
          "text": [
            "R^2 value for unscaled data:  0.8346485438169171\n"
          ]
        }
      ]
    },
    {
      "cell_type": "code",
      "source": [
        "knn_norm = KNeighborsRegressor(n_neighbors=5)\n",
        "knn_norm.fit(X_train_norm, y_train)\n",
        "y_pred_norm = knn_norm.predict(X_test_norm)\n",
        "\n",
        "r2_normalized = r2_score(y_test, y_pred_norm)\n",
        "print(\"R^2 value for normalized data: \", r2_normalized)\n"
      ],
      "metadata": {
        "colab": {
          "base_uri": "https://localhost:8080/"
        },
        "id": "___HjfiV6ML4",
        "outputId": "aac68d02-d025-49f4-d43e-3d2a8b1bc7e5"
      },
      "execution_count": 9,
      "outputs": [
        {
          "output_type": "stream",
          "name": "stdout",
          "text": [
            "R^2 value for normalized data:  0.8346485438169171\n"
          ]
        }
      ]
    },
    {
      "cell_type": "code",
      "source": [
        "knn_std = KNeighborsRegressor(n_neighbors=5)\n",
        "knn_std.fit(X_train_std, y_train)\n",
        "y_pred_std = knn_std.predict(X_test_std)\n",
        "\n",
        "r2_standardized = r2_score(y_test, y_pred_std)\n",
        "print(\"R^2 value for standardized data: \", r2_standardized)\n"
      ],
      "metadata": {
        "colab": {
          "base_uri": "https://localhost:8080/"
        },
        "id": "WH8qjmbO6l03",
        "outputId": "46e17362-5594-4620-c7af-e32a50f4f97a"
      },
      "execution_count": 10,
      "outputs": [
        {
          "output_type": "stream",
          "name": "stdout",
          "text": [
            "R^2 value for standardized data:  0.8346485438169171\n"
          ]
        }
      ]
    }
  ]
}