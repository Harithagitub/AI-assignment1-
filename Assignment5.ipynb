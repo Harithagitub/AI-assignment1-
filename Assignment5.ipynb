{
  "nbformat": 4,
  "nbformat_minor": 0,
  "metadata": {
    "colab": {
      "provenance": [],
      "authorship_tag": "ABX9TyNG7AQUHYFvQCU7sYxl7gP2",
      "include_colab_link": true
    },
    "kernelspec": {
      "name": "python3",
      "display_name": "Python 3"
    },
    "language_info": {
      "name": "python"
    }
  },
  "cells": [
    {
      "cell_type": "markdown",
      "metadata": {
        "id": "view-in-github",
        "colab_type": "text"
      },
      "source": [
        "<a href=\"https://colab.research.google.com/github/Harithagitub/AI-assignment1-/blob/master/Assignment5.ipynb\" target=\"_parent\"><img src=\"https://colab.research.google.com/assets/colab-badge.svg\" alt=\"Open In Colab\"/></a>"
      ]
    },
    {
      "cell_type": "code",
      "execution_count": 3,
      "metadata": {
        "colab": {
          "base_uri": "https://localhost:8080/"
        },
        "id": "l5EP9p224KID",
        "outputId": "2ca83554-947b-4623-f983-1f711a99b734"
      },
      "outputs": [
        {
          "output_type": "stream",
          "name": "stdout",
          "text": [
            "   age          job  marital  education default  balance housing loan  \\\n",
            "0   30   unemployed  married    primary      no     1787      no   no   \n",
            "1   33     services  married  secondary      no     4789     yes  yes   \n",
            "2   35   management   single   tertiary      no     1350     yes   no   \n",
            "3   30   management  married   tertiary      no     1476     yes  yes   \n",
            "4   59  blue-collar  married  secondary      no        0     yes   no   \n",
            "\n",
            "    contact  day month  duration  campaign  pdays  previous poutcome   y  \n",
            "0  cellular   19   oct        79         1     -1         0  unknown  no  \n",
            "1  cellular   11   may       220         1    339         4  failure  no  \n",
            "2  cellular   16   apr       185         1    330         1  failure  no  \n",
            "3   unknown    3   jun       199         4     -1         0  unknown  no  \n",
            "4   unknown    5   may       226         1     -1         0  unknown  no  \n",
            "age           int64\n",
            "job          object\n",
            "marital      object\n",
            "education    object\n",
            "default      object\n",
            "balance       int64\n",
            "housing      object\n",
            "loan         object\n",
            "contact      object\n",
            "day           int64\n",
            "month        object\n",
            "duration      int64\n",
            "campaign      int64\n",
            "pdays         int64\n",
            "previous      int64\n",
            "poutcome     object\n",
            "y            object\n",
            "dtype: object\n"
          ]
        }
      ],
      "source": [
        "import pandas as pd\n",
        "df = pd.read_csv('bank.csv', delimiter=';')\n",
        "print(df.head())\n",
        "print(df.dtypes)\n"
      ]
    },
    {
      "cell_type": "code",
      "source": [
        "df2 = df[['y', 'job', 'marital', 'default', 'housing', 'poutcome']]\n"
      ],
      "metadata": {
        "id": "5d5_sCbi4-IS"
      },
      "execution_count": 4,
      "outputs": []
    },
    {
      "cell_type": "code",
      "source": [
        "df3 = pd.get_dummies(df2, columns=['job', 'marital', 'default', 'housing', 'poutcome'])\n"
      ],
      "metadata": {
        "id": "HktE8umJ5DMq"
      },
      "execution_count": 5,
      "outputs": []
    },
    {
      "cell_type": "code",
      "source": [
        "import seaborn as sns\n",
        "import matplotlib.pyplot as plt\n",
        "\n",
        "plt.figure(figsize=(12, 10))\n",
        "plt.show()\n"
      ],
      "metadata": {
        "colab": {
          "base_uri": "https://localhost:8080/",
          "height": 34
        },
        "id": "kcvZ6Po75Py6",
        "outputId": "2f13d8f8-9d9e-432b-fc84-4be799b0e07f"
      },
      "execution_count": 8,
      "outputs": [
        {
          "output_type": "display_data",
          "data": {
            "text/plain": [
              "<Figure size 1200x1000 with 0 Axes>"
            ]
          },
          "metadata": {}
        }
      ]
    },
    {
      "cell_type": "code",
      "source": [
        "y = df3['y']\n",
        "X = df3.drop('y', axis=1)\n"
      ],
      "metadata": {
        "id": "p486ySNd5e6N"
      },
      "execution_count": 9,
      "outputs": []
    },
    {
      "cell_type": "code",
      "source": [
        "from sklearn.model_selection import train_test_split\n",
        "\n",
        "X_train, X_test, y_train, y_test = train_test_split(X, y, test_size=0.25, random_state=42)\n"
      ],
      "metadata": {
        "id": "ZPUQy1mj5qtm"
      },
      "execution_count": 11,
      "outputs": []
    },
    {
      "cell_type": "code",
      "source": [
        "import pandas as pd\n",
        "import seaborn as sns\n",
        "import matplotlib.pyplot as plt\n",
        "from sklearn.linear_model import LogisticRegression\n",
        "from sklearn.model_selection import train_test_split\n",
        "from sklearn.metrics import confusion_matrix, accuracy_score\n",
        "\n",
        "df = pd.read_csv('bank.csv', delimiter=';')\n",
        "df2 = df[['y', 'job', 'marital', 'default', 'housing', 'poutcome']]\n",
        "df3 = pd.get_dummies(df2, columns=['job', 'marital', 'default', 'housing', 'poutcome'])\n",
        "\n",
        "print(df3.head())\n",
        "\n",
        "y = df3['y'].apply(lambda x: 1 if x == 'yes' else 0)\n",
        "X = df3.drop('y', axis=1)\n",
        "X_train, X_test, y_train, y_test = train_test_split(X, y, test_size=0.25, random_state=42)\n",
        "\n",
        "model = LogisticRegression(max_iter=1000)\n",
        "model.fit(X_train, y_train)\n",
        "y_pred = model.predict(X_test)\n",
        "\n",
        "cm = confusion_matrix(y_test, y_pred)\n",
        "acc = accuracy_score(y_test, y_pred)\n",
        "print(\"Confusion Matrix:\\n\", cm)\n",
        "print(\"Accuracy Score:\", acc)\n",
        "\n",
        "sns.heatmap(cm, annot=True, fmt=\"d\", cmap='Blues', xticklabels=['No', 'Yes'], yticklabels=['No', 'Yes'])\n",
        "plt.xlabel('Predicted')\n",
        "plt.ylabel('True')\n",
        "plt.show()\n"
      ],
      "metadata": {
        "colab": {
          "base_uri": "https://localhost:8080/",
          "height": 1000
        },
        "id": "cySTWmn66aKk",
        "outputId": "bbe4b0e3-ac4e-4d95-a60b-231f08014073"
      },
      "execution_count": 17,
      "outputs": [
        {
          "output_type": "stream",
          "name": "stdout",
          "text": [
            "    y  job_admin.  job_blue-collar  job_entrepreneur  job_housemaid  \\\n",
            "0  no       False            False             False          False   \n",
            "1  no       False            False             False          False   \n",
            "2  no       False            False             False          False   \n",
            "3  no       False            False             False          False   \n",
            "4  no       False             True             False          False   \n",
            "\n",
            "   job_management  job_retired  job_self-employed  job_services  job_student  \\\n",
            "0           False        False              False         False        False   \n",
            "1           False        False              False          True        False   \n",
            "2            True        False              False         False        False   \n",
            "3            True        False              False         False        False   \n",
            "4           False        False              False         False        False   \n",
            "\n",
            "   ...  marital_married  marital_single  default_no  default_yes  housing_no  \\\n",
            "0  ...             True           False        True        False        True   \n",
            "1  ...             True           False        True        False       False   \n",
            "2  ...            False            True        True        False       False   \n",
            "3  ...             True           False        True        False       False   \n",
            "4  ...             True           False        True        False       False   \n",
            "\n",
            "   housing_yes  poutcome_failure  poutcome_other  poutcome_success  \\\n",
            "0        False             False           False             False   \n",
            "1         True              True           False             False   \n",
            "2         True              True           False             False   \n",
            "3         True             False           False             False   \n",
            "4         True             False           False             False   \n",
            "\n",
            "   poutcome_unknown  \n",
            "0              True  \n",
            "1             False  \n",
            "2             False  \n",
            "3              True  \n",
            "4              True  \n",
            "\n",
            "[5 rows x 24 columns]\n",
            "Confusion Matrix:\n",
            " [[997   9]\n",
            " [106  19]]\n",
            "Accuracy Score: 0.8983200707338639\n"
          ]
        },
        {
          "output_type": "display_data",
          "data": {
            "text/plain": [
              "<Figure size 640x480 with 2 Axes>"
            ],
            "image/png": "[encoded data removed]"
          },
          "metadata": {}
        }
      ]
    }
  ]
}